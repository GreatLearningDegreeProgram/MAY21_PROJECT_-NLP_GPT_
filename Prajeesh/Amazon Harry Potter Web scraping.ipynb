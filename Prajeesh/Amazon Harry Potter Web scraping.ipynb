{
 "cells": [
  {
   "cell_type": "code",
   "execution_count": 24,
   "id": "af52f342",
   "metadata": {},
   "outputs": [],
   "source": [
    "from bs4 import BeautifulSoup as bs\n",
    "import requests,openpyxl"
   ]
  },
  {
   "cell_type": "code",
   "execution_count": 25,
   "id": "2a8dbea9",
   "metadata": {},
   "outputs": [
    {
     "name": "stdout",
     "output_type": "stream",
     "text": [
      "['Sheet']\n",
      "['Amazon Reviews']\n"
     ]
    }
   ],
   "source": [
    "excel = openpyxl.Workbook()\n",
    "print(excel.sheetnames)\n",
    "sheet = excel.active\n",
    "sheet.title = 'Amazon Reviews'\n",
    "print(excel.sheetnames)\n",
    "sheet.append(['Reviewer Name','Review Title','Rating','Date','Review'])"
   ]
  },
  {
   "cell_type": "code",
   "execution_count": 26,
   "id": "c762ac5c",
   "metadata": {},
   "outputs": [
    {
     "name": "stdout",
     "output_type": "stream",
     "text": [
      "https://www.amazon.in/Harry-Potter-Philosophers-Stone-Rowling-ebook/product-reviews/B019PIOJYU/ref=cm_cr_dp_d_show_all_btm?ie=UTF8&reviewerType=all_reviews&pageNumber=1\n",
      "https://www.amazon.in/Harry-Potter-Philosophers-Stone-Rowling-ebook/product-reviews/B019PIOJYU/ref=cm_cr_dp_d_show_all_btm?ie=UTF8&reviewerType=all_reviews&pageNumber=2\n",
      "https://www.amazon.in/Harry-Potter-Philosophers-Stone-Rowling-ebook/product-reviews/B019PIOJYU/ref=cm_cr_dp_d_show_all_btm?ie=UTF8&reviewerType=all_reviews&pageNumber=3\n",
      "https://www.amazon.in/Harry-Potter-Philosophers-Stone-Rowling-ebook/product-reviews/B019PIOJYU/ref=cm_cr_dp_d_show_all_btm?ie=UTF8&reviewerType=all_reviews&pageNumber=4\n",
      "https://www.amazon.in/Harry-Potter-Philosophers-Stone-Rowling-ebook/product-reviews/B019PIOJYU/ref=cm_cr_dp_d_show_all_btm?ie=UTF8&reviewerType=all_reviews&pageNumber=5\n",
      "https://www.amazon.in/Harry-Potter-Philosophers-Stone-Rowling-ebook/product-reviews/B019PIOJYU/ref=cm_cr_dp_d_show_all_btm?ie=UTF8&reviewerType=all_reviews&pageNumber=6\n",
      "https://www.amazon.in/Harry-Potter-Philosophers-Stone-Rowling-ebook/product-reviews/B019PIOJYU/ref=cm_cr_dp_d_show_all_btm?ie=UTF8&reviewerType=all_reviews&pageNumber=7\n",
      "https://www.amazon.in/Harry-Potter-Philosophers-Stone-Rowling-ebook/product-reviews/B019PIOJYU/ref=cm_cr_dp_d_show_all_btm?ie=UTF8&reviewerType=all_reviews&pageNumber=8\n",
      "https://www.amazon.in/Harry-Potter-Philosophers-Stone-Rowling-ebook/product-reviews/B019PIOJYU/ref=cm_cr_dp_d_show_all_btm?ie=UTF8&reviewerType=all_reviews&pageNumber=9\n",
      "https://www.amazon.in/Harry-Potter-Philosophers-Stone-Rowling-ebook/product-reviews/B019PIOJYU/ref=cm_cr_dp_d_show_all_btm?ie=UTF8&reviewerType=all_reviews&pageNumber=10\n",
      "https://www.amazon.in/Harry-Potter-Philosophers-Stone-Rowling-ebook/product-reviews/B019PIOJYU/ref=cm_cr_dp_d_show_all_btm?ie=UTF8&reviewerType=all_reviews&pageNumber=11\n",
      "https://www.amazon.in/Harry-Potter-Philosophers-Stone-Rowling-ebook/product-reviews/B019PIOJYU/ref=cm_cr_dp_d_show_all_btm?ie=UTF8&reviewerType=all_reviews&pageNumber=12\n",
      "https://www.amazon.in/Harry-Potter-Philosophers-Stone-Rowling-ebook/product-reviews/B019PIOJYU/ref=cm_cr_dp_d_show_all_btm?ie=UTF8&reviewerType=all_reviews&pageNumber=13\n",
      "https://www.amazon.in/Harry-Potter-Philosophers-Stone-Rowling-ebook/product-reviews/B019PIOJYU/ref=cm_cr_dp_d_show_all_btm?ie=UTF8&reviewerType=all_reviews&pageNumber=14\n",
      "https://www.amazon.in/Harry-Potter-Philosophers-Stone-Rowling-ebook/product-reviews/B019PIOJYU/ref=cm_cr_dp_d_show_all_btm?ie=UTF8&reviewerType=all_reviews&pageNumber=15\n",
      "https://www.amazon.in/Harry-Potter-Philosophers-Stone-Rowling-ebook/product-reviews/B019PIOJYU/ref=cm_cr_dp_d_show_all_btm?ie=UTF8&reviewerType=all_reviews&pageNumber=16\n",
      "https://www.amazon.in/Harry-Potter-Philosophers-Stone-Rowling-ebook/product-reviews/B019PIOJYU/ref=cm_cr_dp_d_show_all_btm?ie=UTF8&reviewerType=all_reviews&pageNumber=17\n",
      "https://www.amazon.in/Harry-Potter-Philosophers-Stone-Rowling-ebook/product-reviews/B019PIOJYU/ref=cm_cr_dp_d_show_all_btm?ie=UTF8&reviewerType=all_reviews&pageNumber=18\n",
      "https://www.amazon.in/Harry-Potter-Philosophers-Stone-Rowling-ebook/product-reviews/B019PIOJYU/ref=cm_cr_dp_d_show_all_btm?ie=UTF8&reviewerType=all_reviews&pageNumber=19\n",
      "https://www.amazon.in/Harry-Potter-Philosophers-Stone-Rowling-ebook/product-reviews/B019PIOJYU/ref=cm_cr_dp_d_show_all_btm?ie=UTF8&reviewerType=all_reviews&pageNumber=20\n",
      "https://www.amazon.in/Harry-Potter-Philosophers-Stone-Rowling-ebook/product-reviews/B019PIOJYU/ref=cm_cr_dp_d_show_all_btm?ie=UTF8&reviewerType=all_reviews&pageNumber=21\n",
      "https://www.amazon.in/Harry-Potter-Philosophers-Stone-Rowling-ebook/product-reviews/B019PIOJYU/ref=cm_cr_dp_d_show_all_btm?ie=UTF8&reviewerType=all_reviews&pageNumber=22\n",
      "https://www.amazon.in/Harry-Potter-Philosophers-Stone-Rowling-ebook/product-reviews/B019PIOJYU/ref=cm_cr_dp_d_show_all_btm?ie=UTF8&reviewerType=all_reviews&pageNumber=23\n",
      "https://www.amazon.in/Harry-Potter-Philosophers-Stone-Rowling-ebook/product-reviews/B019PIOJYU/ref=cm_cr_dp_d_show_all_btm?ie=UTF8&reviewerType=all_reviews&pageNumber=24\n",
      "https://www.amazon.in/Harry-Potter-Philosophers-Stone-Rowling-ebook/product-reviews/B019PIOJYU/ref=cm_cr_dp_d_show_all_btm?ie=UTF8&reviewerType=all_reviews&pageNumber=25\n",
      "https://www.amazon.in/Harry-Potter-Philosophers-Stone-Rowling-ebook/product-reviews/B019PIOJYU/ref=cm_cr_dp_d_show_all_btm?ie=UTF8&reviewerType=all_reviews&pageNumber=26\n",
      "https://www.amazon.in/Harry-Potter-Philosophers-Stone-Rowling-ebook/product-reviews/B019PIOJYU/ref=cm_cr_dp_d_show_all_btm?ie=UTF8&reviewerType=all_reviews&pageNumber=27\n",
      "https://www.amazon.in/Harry-Potter-Philosophers-Stone-Rowling-ebook/product-reviews/B019PIOJYU/ref=cm_cr_dp_d_show_all_btm?ie=UTF8&reviewerType=all_reviews&pageNumber=28\n",
      "https://www.amazon.in/Harry-Potter-Philosophers-Stone-Rowling-ebook/product-reviews/B019PIOJYU/ref=cm_cr_dp_d_show_all_btm?ie=UTF8&reviewerType=all_reviews&pageNumber=29\n",
      "https://www.amazon.in/Harry-Potter-Philosophers-Stone-Rowling-ebook/product-reviews/B019PIOJYU/ref=cm_cr_dp_d_show_all_btm?ie=UTF8&reviewerType=all_reviews&pageNumber=30\n",
      "https://www.amazon.in/Harry-Potter-Philosophers-Stone-Rowling-ebook/product-reviews/B019PIOJYU/ref=cm_cr_dp_d_show_all_btm?ie=UTF8&reviewerType=all_reviews&pageNumber=31\n",
      "https://www.amazon.in/Harry-Potter-Philosophers-Stone-Rowling-ebook/product-reviews/B019PIOJYU/ref=cm_cr_dp_d_show_all_btm?ie=UTF8&reviewerType=all_reviews&pageNumber=32\n",
      "https://www.amazon.in/Harry-Potter-Philosophers-Stone-Rowling-ebook/product-reviews/B019PIOJYU/ref=cm_cr_dp_d_show_all_btm?ie=UTF8&reviewerType=all_reviews&pageNumber=33\n",
      "https://www.amazon.in/Harry-Potter-Philosophers-Stone-Rowling-ebook/product-reviews/B019PIOJYU/ref=cm_cr_dp_d_show_all_btm?ie=UTF8&reviewerType=all_reviews&pageNumber=34\n",
      "https://www.amazon.in/Harry-Potter-Philosophers-Stone-Rowling-ebook/product-reviews/B019PIOJYU/ref=cm_cr_dp_d_show_all_btm?ie=UTF8&reviewerType=all_reviews&pageNumber=35\n",
      "https://www.amazon.in/Harry-Potter-Philosophers-Stone-Rowling-ebook/product-reviews/B019PIOJYU/ref=cm_cr_dp_d_show_all_btm?ie=UTF8&reviewerType=all_reviews&pageNumber=36\n",
      "https://www.amazon.in/Harry-Potter-Philosophers-Stone-Rowling-ebook/product-reviews/B019PIOJYU/ref=cm_cr_dp_d_show_all_btm?ie=UTF8&reviewerType=all_reviews&pageNumber=37\n",
      "https://www.amazon.in/Harry-Potter-Philosophers-Stone-Rowling-ebook/product-reviews/B019PIOJYU/ref=cm_cr_dp_d_show_all_btm?ie=UTF8&reviewerType=all_reviews&pageNumber=38\n",
      "https://www.amazon.in/Harry-Potter-Philosophers-Stone-Rowling-ebook/product-reviews/B019PIOJYU/ref=cm_cr_dp_d_show_all_btm?ie=UTF8&reviewerType=all_reviews&pageNumber=39\n",
      "https://www.amazon.in/Harry-Potter-Philosophers-Stone-Rowling-ebook/product-reviews/B019PIOJYU/ref=cm_cr_dp_d_show_all_btm?ie=UTF8&reviewerType=all_reviews&pageNumber=40\n",
      "https://www.amazon.in/Harry-Potter-Philosophers-Stone-Rowling-ebook/product-reviews/B019PIOJYU/ref=cm_cr_dp_d_show_all_btm?ie=UTF8&reviewerType=all_reviews&pageNumber=41\n",
      "https://www.amazon.in/Harry-Potter-Philosophers-Stone-Rowling-ebook/product-reviews/B019PIOJYU/ref=cm_cr_dp_d_show_all_btm?ie=UTF8&reviewerType=all_reviews&pageNumber=42\n",
      "https://www.amazon.in/Harry-Potter-Philosophers-Stone-Rowling-ebook/product-reviews/B019PIOJYU/ref=cm_cr_dp_d_show_all_btm?ie=UTF8&reviewerType=all_reviews&pageNumber=43\n",
      "https://www.amazon.in/Harry-Potter-Philosophers-Stone-Rowling-ebook/product-reviews/B019PIOJYU/ref=cm_cr_dp_d_show_all_btm?ie=UTF8&reviewerType=all_reviews&pageNumber=44\n",
      "https://www.amazon.in/Harry-Potter-Philosophers-Stone-Rowling-ebook/product-reviews/B019PIOJYU/ref=cm_cr_dp_d_show_all_btm?ie=UTF8&reviewerType=all_reviews&pageNumber=45\n",
      "https://www.amazon.in/Harry-Potter-Philosophers-Stone-Rowling-ebook/product-reviews/B019PIOJYU/ref=cm_cr_dp_d_show_all_btm?ie=UTF8&reviewerType=all_reviews&pageNumber=46\n",
      "https://www.amazon.in/Harry-Potter-Philosophers-Stone-Rowling-ebook/product-reviews/B019PIOJYU/ref=cm_cr_dp_d_show_all_btm?ie=UTF8&reviewerType=all_reviews&pageNumber=47\n",
      "https://www.amazon.in/Harry-Potter-Philosophers-Stone-Rowling-ebook/product-reviews/B019PIOJYU/ref=cm_cr_dp_d_show_all_btm?ie=UTF8&reviewerType=all_reviews&pageNumber=48\n",
      "https://www.amazon.in/Harry-Potter-Philosophers-Stone-Rowling-ebook/product-reviews/B019PIOJYU/ref=cm_cr_dp_d_show_all_btm?ie=UTF8&reviewerType=all_reviews&pageNumber=49\n"
     ]
    },
    {
     "name": "stdout",
     "output_type": "stream",
     "text": [
      "https://www.amazon.in/Harry-Potter-Philosophers-Stone-Rowling-ebook/product-reviews/B019PIOJYU/ref=cm_cr_dp_d_show_all_btm?ie=UTF8&reviewerType=all_reviews&pageNumber=50\n",
      "https://www.amazon.in/Harry-Potter-Philosophers-Stone-Rowling-ebook/product-reviews/B019PIOJYU/ref=cm_cr_dp_d_show_all_btm?ie=UTF8&reviewerType=all_reviews&pageNumber=51\n",
      "https://www.amazon.in/Harry-Potter-Philosophers-Stone-Rowling-ebook/product-reviews/B019PIOJYU/ref=cm_cr_dp_d_show_all_btm?ie=UTF8&reviewerType=all_reviews&pageNumber=52\n",
      "https://www.amazon.in/Harry-Potter-Philosophers-Stone-Rowling-ebook/product-reviews/B019PIOJYU/ref=cm_cr_dp_d_show_all_btm?ie=UTF8&reviewerType=all_reviews&pageNumber=53\n",
      "https://www.amazon.in/Harry-Potter-Philosophers-Stone-Rowling-ebook/product-reviews/B019PIOJYU/ref=cm_cr_dp_d_show_all_btm?ie=UTF8&reviewerType=all_reviews&pageNumber=54\n",
      "https://www.amazon.in/Harry-Potter-Philosophers-Stone-Rowling-ebook/product-reviews/B019PIOJYU/ref=cm_cr_dp_d_show_all_btm?ie=UTF8&reviewerType=all_reviews&pageNumber=55\n",
      "https://www.amazon.in/Harry-Potter-Philosophers-Stone-Rowling-ebook/product-reviews/B019PIOJYU/ref=cm_cr_dp_d_show_all_btm?ie=UTF8&reviewerType=all_reviews&pageNumber=56\n",
      "https://www.amazon.in/Harry-Potter-Philosophers-Stone-Rowling-ebook/product-reviews/B019PIOJYU/ref=cm_cr_dp_d_show_all_btm?ie=UTF8&reviewerType=all_reviews&pageNumber=57\n",
      "https://www.amazon.in/Harry-Potter-Philosophers-Stone-Rowling-ebook/product-reviews/B019PIOJYU/ref=cm_cr_dp_d_show_all_btm?ie=UTF8&reviewerType=all_reviews&pageNumber=58\n",
      "https://www.amazon.in/Harry-Potter-Philosophers-Stone-Rowling-ebook/product-reviews/B019PIOJYU/ref=cm_cr_dp_d_show_all_btm?ie=UTF8&reviewerType=all_reviews&pageNumber=59\n",
      "https://www.amazon.in/Harry-Potter-Philosophers-Stone-Rowling-ebook/product-reviews/B019PIOJYU/ref=cm_cr_dp_d_show_all_btm?ie=UTF8&reviewerType=all_reviews&pageNumber=60\n",
      "https://www.amazon.in/Harry-Potter-Philosophers-Stone-Rowling-ebook/product-reviews/B019PIOJYU/ref=cm_cr_dp_d_show_all_btm?ie=UTF8&reviewerType=all_reviews&pageNumber=61\n",
      "https://www.amazon.in/Harry-Potter-Philosophers-Stone-Rowling-ebook/product-reviews/B019PIOJYU/ref=cm_cr_dp_d_show_all_btm?ie=UTF8&reviewerType=all_reviews&pageNumber=62\n",
      "https://www.amazon.in/Harry-Potter-Philosophers-Stone-Rowling-ebook/product-reviews/B019PIOJYU/ref=cm_cr_dp_d_show_all_btm?ie=UTF8&reviewerType=all_reviews&pageNumber=63\n",
      "https://www.amazon.in/Harry-Potter-Philosophers-Stone-Rowling-ebook/product-reviews/B019PIOJYU/ref=cm_cr_dp_d_show_all_btm?ie=UTF8&reviewerType=all_reviews&pageNumber=64\n",
      "https://www.amazon.in/Harry-Potter-Philosophers-Stone-Rowling-ebook/product-reviews/B019PIOJYU/ref=cm_cr_dp_d_show_all_btm?ie=UTF8&reviewerType=all_reviews&pageNumber=65\n",
      "https://www.amazon.in/Harry-Potter-Philosophers-Stone-Rowling-ebook/product-reviews/B019PIOJYU/ref=cm_cr_dp_d_show_all_btm?ie=UTF8&reviewerType=all_reviews&pageNumber=66\n",
      "https://www.amazon.in/Harry-Potter-Philosophers-Stone-Rowling-ebook/product-reviews/B019PIOJYU/ref=cm_cr_dp_d_show_all_btm?ie=UTF8&reviewerType=all_reviews&pageNumber=67\n",
      "https://www.amazon.in/Harry-Potter-Philosophers-Stone-Rowling-ebook/product-reviews/B019PIOJYU/ref=cm_cr_dp_d_show_all_btm?ie=UTF8&reviewerType=all_reviews&pageNumber=68\n",
      "https://www.amazon.in/Harry-Potter-Philosophers-Stone-Rowling-ebook/product-reviews/B019PIOJYU/ref=cm_cr_dp_d_show_all_btm?ie=UTF8&reviewerType=all_reviews&pageNumber=69\n",
      "https://www.amazon.in/Harry-Potter-Philosophers-Stone-Rowling-ebook/product-reviews/B019PIOJYU/ref=cm_cr_dp_d_show_all_btm?ie=UTF8&reviewerType=all_reviews&pageNumber=70\n",
      "https://www.amazon.in/Harry-Potter-Philosophers-Stone-Rowling-ebook/product-reviews/B019PIOJYU/ref=cm_cr_dp_d_show_all_btm?ie=UTF8&reviewerType=all_reviews&pageNumber=71\n",
      "https://www.amazon.in/Harry-Potter-Philosophers-Stone-Rowling-ebook/product-reviews/B019PIOJYU/ref=cm_cr_dp_d_show_all_btm?ie=UTF8&reviewerType=all_reviews&pageNumber=72\n",
      "https://www.amazon.in/Harry-Potter-Philosophers-Stone-Rowling-ebook/product-reviews/B019PIOJYU/ref=cm_cr_dp_d_show_all_btm?ie=UTF8&reviewerType=all_reviews&pageNumber=73\n",
      "https://www.amazon.in/Harry-Potter-Philosophers-Stone-Rowling-ebook/product-reviews/B019PIOJYU/ref=cm_cr_dp_d_show_all_btm?ie=UTF8&reviewerType=all_reviews&pageNumber=74\n",
      "https://www.amazon.in/Harry-Potter-Philosophers-Stone-Rowling-ebook/product-reviews/B019PIOJYU/ref=cm_cr_dp_d_show_all_btm?ie=UTF8&reviewerType=all_reviews&pageNumber=75\n",
      "https://www.amazon.in/Harry-Potter-Philosophers-Stone-Rowling-ebook/product-reviews/B019PIOJYU/ref=cm_cr_dp_d_show_all_btm?ie=UTF8&reviewerType=all_reviews&pageNumber=76\n",
      "https://www.amazon.in/Harry-Potter-Philosophers-Stone-Rowling-ebook/product-reviews/B019PIOJYU/ref=cm_cr_dp_d_show_all_btm?ie=UTF8&reviewerType=all_reviews&pageNumber=77\n",
      "https://www.amazon.in/Harry-Potter-Philosophers-Stone-Rowling-ebook/product-reviews/B019PIOJYU/ref=cm_cr_dp_d_show_all_btm?ie=UTF8&reviewerType=all_reviews&pageNumber=78\n",
      "https://www.amazon.in/Harry-Potter-Philosophers-Stone-Rowling-ebook/product-reviews/B019PIOJYU/ref=cm_cr_dp_d_show_all_btm?ie=UTF8&reviewerType=all_reviews&pageNumber=79\n",
      "https://www.amazon.in/Harry-Potter-Philosophers-Stone-Rowling-ebook/product-reviews/B019PIOJYU/ref=cm_cr_dp_d_show_all_btm?ie=UTF8&reviewerType=all_reviews&pageNumber=80\n",
      "https://www.amazon.in/Harry-Potter-Philosophers-Stone-Rowling-ebook/product-reviews/B019PIOJYU/ref=cm_cr_dp_d_show_all_btm?ie=UTF8&reviewerType=all_reviews&pageNumber=81\n",
      "https://www.amazon.in/Harry-Potter-Philosophers-Stone-Rowling-ebook/product-reviews/B019PIOJYU/ref=cm_cr_dp_d_show_all_btm?ie=UTF8&reviewerType=all_reviews&pageNumber=82\n",
      "https://www.amazon.in/Harry-Potter-Philosophers-Stone-Rowling-ebook/product-reviews/B019PIOJYU/ref=cm_cr_dp_d_show_all_btm?ie=UTF8&reviewerType=all_reviews&pageNumber=83\n",
      "https://www.amazon.in/Harry-Potter-Philosophers-Stone-Rowling-ebook/product-reviews/B019PIOJYU/ref=cm_cr_dp_d_show_all_btm?ie=UTF8&reviewerType=all_reviews&pageNumber=84\n",
      "https://www.amazon.in/Harry-Potter-Philosophers-Stone-Rowling-ebook/product-reviews/B019PIOJYU/ref=cm_cr_dp_d_show_all_btm?ie=UTF8&reviewerType=all_reviews&pageNumber=85\n",
      "https://www.amazon.in/Harry-Potter-Philosophers-Stone-Rowling-ebook/product-reviews/B019PIOJYU/ref=cm_cr_dp_d_show_all_btm?ie=UTF8&reviewerType=all_reviews&pageNumber=86\n",
      "https://www.amazon.in/Harry-Potter-Philosophers-Stone-Rowling-ebook/product-reviews/B019PIOJYU/ref=cm_cr_dp_d_show_all_btm?ie=UTF8&reviewerType=all_reviews&pageNumber=87\n",
      "https://www.amazon.in/Harry-Potter-Philosophers-Stone-Rowling-ebook/product-reviews/B019PIOJYU/ref=cm_cr_dp_d_show_all_btm?ie=UTF8&reviewerType=all_reviews&pageNumber=88\n",
      "https://www.amazon.in/Harry-Potter-Philosophers-Stone-Rowling-ebook/product-reviews/B019PIOJYU/ref=cm_cr_dp_d_show_all_btm?ie=UTF8&reviewerType=all_reviews&pageNumber=89\n",
      "https://www.amazon.in/Harry-Potter-Philosophers-Stone-Rowling-ebook/product-reviews/B019PIOJYU/ref=cm_cr_dp_d_show_all_btm?ie=UTF8&reviewerType=all_reviews&pageNumber=90\n",
      "https://www.amazon.in/Harry-Potter-Philosophers-Stone-Rowling-ebook/product-reviews/B019PIOJYU/ref=cm_cr_dp_d_show_all_btm?ie=UTF8&reviewerType=all_reviews&pageNumber=91\n",
      "https://www.amazon.in/Harry-Potter-Philosophers-Stone-Rowling-ebook/product-reviews/B019PIOJYU/ref=cm_cr_dp_d_show_all_btm?ie=UTF8&reviewerType=all_reviews&pageNumber=92\n",
      "https://www.amazon.in/Harry-Potter-Philosophers-Stone-Rowling-ebook/product-reviews/B019PIOJYU/ref=cm_cr_dp_d_show_all_btm?ie=UTF8&reviewerType=all_reviews&pageNumber=93\n",
      "https://www.amazon.in/Harry-Potter-Philosophers-Stone-Rowling-ebook/product-reviews/B019PIOJYU/ref=cm_cr_dp_d_show_all_btm?ie=UTF8&reviewerType=all_reviews&pageNumber=94\n",
      "https://www.amazon.in/Harry-Potter-Philosophers-Stone-Rowling-ebook/product-reviews/B019PIOJYU/ref=cm_cr_dp_d_show_all_btm?ie=UTF8&reviewerType=all_reviews&pageNumber=95\n",
      "https://www.amazon.in/Harry-Potter-Philosophers-Stone-Rowling-ebook/product-reviews/B019PIOJYU/ref=cm_cr_dp_d_show_all_btm?ie=UTF8&reviewerType=all_reviews&pageNumber=96\n",
      "https://www.amazon.in/Harry-Potter-Philosophers-Stone-Rowling-ebook/product-reviews/B019PIOJYU/ref=cm_cr_dp_d_show_all_btm?ie=UTF8&reviewerType=all_reviews&pageNumber=97\n",
      "https://www.amazon.in/Harry-Potter-Philosophers-Stone-Rowling-ebook/product-reviews/B019PIOJYU/ref=cm_cr_dp_d_show_all_btm?ie=UTF8&reviewerType=all_reviews&pageNumber=98\n"
     ]
    },
    {
     "name": "stdout",
     "output_type": "stream",
     "text": [
      "https://www.amazon.in/Harry-Potter-Philosophers-Stone-Rowling-ebook/product-reviews/B019PIOJYU/ref=cm_cr_dp_d_show_all_btm?ie=UTF8&reviewerType=all_reviews&pageNumber=99\n",
      "https://www.amazon.in/Harry-Potter-Philosophers-Stone-Rowling-ebook/product-reviews/B019PIOJYU/ref=cm_cr_dp_d_show_all_btm?ie=UTF8&reviewerType=all_reviews&pageNumber=100\n",
      "https://www.amazon.in/Harry-Potter-Philosophers-Stone-Rowling-ebook/product-reviews/B019PIOJYU/ref=cm_cr_dp_d_show_all_btm?ie=UTF8&reviewerType=all_reviews&pageNumber=101\n",
      "https://www.amazon.in/Harry-Potter-Philosophers-Stone-Rowling-ebook/product-reviews/B019PIOJYU/ref=cm_cr_dp_d_show_all_btm?ie=UTF8&reviewerType=all_reviews&pageNumber=102\n",
      "https://www.amazon.in/Harry-Potter-Philosophers-Stone-Rowling-ebook/product-reviews/B019PIOJYU/ref=cm_cr_dp_d_show_all_btm?ie=UTF8&reviewerType=all_reviews&pageNumber=103\n",
      "https://www.amazon.in/Harry-Potter-Philosophers-Stone-Rowling-ebook/product-reviews/B019PIOJYU/ref=cm_cr_dp_d_show_all_btm?ie=UTF8&reviewerType=all_reviews&pageNumber=104\n",
      "https://www.amazon.in/Harry-Potter-Philosophers-Stone-Rowling-ebook/product-reviews/B019PIOJYU/ref=cm_cr_dp_d_show_all_btm?ie=UTF8&reviewerType=all_reviews&pageNumber=105\n",
      "https://www.amazon.in/Harry-Potter-Philosophers-Stone-Rowling-ebook/product-reviews/B019PIOJYU/ref=cm_cr_dp_d_show_all_btm?ie=UTF8&reviewerType=all_reviews&pageNumber=106\n",
      "https://www.amazon.in/Harry-Potter-Philosophers-Stone-Rowling-ebook/product-reviews/B019PIOJYU/ref=cm_cr_dp_d_show_all_btm?ie=UTF8&reviewerType=all_reviews&pageNumber=107\n",
      "https://www.amazon.in/Harry-Potter-Philosophers-Stone-Rowling-ebook/product-reviews/B019PIOJYU/ref=cm_cr_dp_d_show_all_btm?ie=UTF8&reviewerType=all_reviews&pageNumber=108\n",
      "https://www.amazon.in/Harry-Potter-Philosophers-Stone-Rowling-ebook/product-reviews/B019PIOJYU/ref=cm_cr_dp_d_show_all_btm?ie=UTF8&reviewerType=all_reviews&pageNumber=109\n",
      "https://www.amazon.in/Harry-Potter-Philosophers-Stone-Rowling-ebook/product-reviews/B019PIOJYU/ref=cm_cr_dp_d_show_all_btm?ie=UTF8&reviewerType=all_reviews&pageNumber=110\n",
      "https://www.amazon.in/Harry-Potter-Philosophers-Stone-Rowling-ebook/product-reviews/B019PIOJYU/ref=cm_cr_dp_d_show_all_btm?ie=UTF8&reviewerType=all_reviews&pageNumber=111\n",
      "https://www.amazon.in/Harry-Potter-Philosophers-Stone-Rowling-ebook/product-reviews/B019PIOJYU/ref=cm_cr_dp_d_show_all_btm?ie=UTF8&reviewerType=all_reviews&pageNumber=112\n",
      "https://www.amazon.in/Harry-Potter-Philosophers-Stone-Rowling-ebook/product-reviews/B019PIOJYU/ref=cm_cr_dp_d_show_all_btm?ie=UTF8&reviewerType=all_reviews&pageNumber=113\n",
      "https://www.amazon.in/Harry-Potter-Philosophers-Stone-Rowling-ebook/product-reviews/B019PIOJYU/ref=cm_cr_dp_d_show_all_btm?ie=UTF8&reviewerType=all_reviews&pageNumber=114\n",
      "https://www.amazon.in/Harry-Potter-Philosophers-Stone-Rowling-ebook/product-reviews/B019PIOJYU/ref=cm_cr_dp_d_show_all_btm?ie=UTF8&reviewerType=all_reviews&pageNumber=115\n",
      "https://www.amazon.in/Harry-Potter-Philosophers-Stone-Rowling-ebook/product-reviews/B019PIOJYU/ref=cm_cr_dp_d_show_all_btm?ie=UTF8&reviewerType=all_reviews&pageNumber=116\n",
      "https://www.amazon.in/Harry-Potter-Philosophers-Stone-Rowling-ebook/product-reviews/B019PIOJYU/ref=cm_cr_dp_d_show_all_btm?ie=UTF8&reviewerType=all_reviews&pageNumber=117\n",
      "https://www.amazon.in/Harry-Potter-Philosophers-Stone-Rowling-ebook/product-reviews/B019PIOJYU/ref=cm_cr_dp_d_show_all_btm?ie=UTF8&reviewerType=all_reviews&pageNumber=118\n",
      "https://www.amazon.in/Harry-Potter-Philosophers-Stone-Rowling-ebook/product-reviews/B019PIOJYU/ref=cm_cr_dp_d_show_all_btm?ie=UTF8&reviewerType=all_reviews&pageNumber=119\n",
      "https://www.amazon.in/Harry-Potter-Philosophers-Stone-Rowling-ebook/product-reviews/B019PIOJYU/ref=cm_cr_dp_d_show_all_btm?ie=UTF8&reviewerType=all_reviews&pageNumber=120\n",
      "https://www.amazon.in/Harry-Potter-Philosophers-Stone-Rowling-ebook/product-reviews/B019PIOJYU/ref=cm_cr_dp_d_show_all_btm?ie=UTF8&reviewerType=all_reviews&pageNumber=121\n",
      "https://www.amazon.in/Harry-Potter-Philosophers-Stone-Rowling-ebook/product-reviews/B019PIOJYU/ref=cm_cr_dp_d_show_all_btm?ie=UTF8&reviewerType=all_reviews&pageNumber=122\n",
      "https://www.amazon.in/Harry-Potter-Philosophers-Stone-Rowling-ebook/product-reviews/B019PIOJYU/ref=cm_cr_dp_d_show_all_btm?ie=UTF8&reviewerType=all_reviews&pageNumber=123\n",
      "https://www.amazon.in/Harry-Potter-Philosophers-Stone-Rowling-ebook/product-reviews/B019PIOJYU/ref=cm_cr_dp_d_show_all_btm?ie=UTF8&reviewerType=all_reviews&pageNumber=124\n",
      "https://www.amazon.in/Harry-Potter-Philosophers-Stone-Rowling-ebook/product-reviews/B019PIOJYU/ref=cm_cr_dp_d_show_all_btm?ie=UTF8&reviewerType=all_reviews&pageNumber=125\n",
      "https://www.amazon.in/Harry-Potter-Philosophers-Stone-Rowling-ebook/product-reviews/B019PIOJYU/ref=cm_cr_dp_d_show_all_btm?ie=UTF8&reviewerType=all_reviews&pageNumber=126\n",
      "https://www.amazon.in/Harry-Potter-Philosophers-Stone-Rowling-ebook/product-reviews/B019PIOJYU/ref=cm_cr_dp_d_show_all_btm?ie=UTF8&reviewerType=all_reviews&pageNumber=127\n",
      "https://www.amazon.in/Harry-Potter-Philosophers-Stone-Rowling-ebook/product-reviews/B019PIOJYU/ref=cm_cr_dp_d_show_all_btm?ie=UTF8&reviewerType=all_reviews&pageNumber=128\n",
      "https://www.amazon.in/Harry-Potter-Philosophers-Stone-Rowling-ebook/product-reviews/B019PIOJYU/ref=cm_cr_dp_d_show_all_btm?ie=UTF8&reviewerType=all_reviews&pageNumber=129\n",
      "https://www.amazon.in/Harry-Potter-Philosophers-Stone-Rowling-ebook/product-reviews/B019PIOJYU/ref=cm_cr_dp_d_show_all_btm?ie=UTF8&reviewerType=all_reviews&pageNumber=130\n",
      "https://www.amazon.in/Harry-Potter-Philosophers-Stone-Rowling-ebook/product-reviews/B019PIOJYU/ref=cm_cr_dp_d_show_all_btm?ie=UTF8&reviewerType=all_reviews&pageNumber=131\n",
      "https://www.amazon.in/Harry-Potter-Philosophers-Stone-Rowling-ebook/product-reviews/B019PIOJYU/ref=cm_cr_dp_d_show_all_btm?ie=UTF8&reviewerType=all_reviews&pageNumber=132\n",
      "https://www.amazon.in/Harry-Potter-Philosophers-Stone-Rowling-ebook/product-reviews/B019PIOJYU/ref=cm_cr_dp_d_show_all_btm?ie=UTF8&reviewerType=all_reviews&pageNumber=133\n",
      "https://www.amazon.in/Harry-Potter-Philosophers-Stone-Rowling-ebook/product-reviews/B019PIOJYU/ref=cm_cr_dp_d_show_all_btm?ie=UTF8&reviewerType=all_reviews&pageNumber=134\n",
      "https://www.amazon.in/Harry-Potter-Philosophers-Stone-Rowling-ebook/product-reviews/B019PIOJYU/ref=cm_cr_dp_d_show_all_btm?ie=UTF8&reviewerType=all_reviews&pageNumber=135\n",
      "https://www.amazon.in/Harry-Potter-Philosophers-Stone-Rowling-ebook/product-reviews/B019PIOJYU/ref=cm_cr_dp_d_show_all_btm?ie=UTF8&reviewerType=all_reviews&pageNumber=136\n",
      "https://www.amazon.in/Harry-Potter-Philosophers-Stone-Rowling-ebook/product-reviews/B019PIOJYU/ref=cm_cr_dp_d_show_all_btm?ie=UTF8&reviewerType=all_reviews&pageNumber=137\n",
      "https://www.amazon.in/Harry-Potter-Philosophers-Stone-Rowling-ebook/product-reviews/B019PIOJYU/ref=cm_cr_dp_d_show_all_btm?ie=UTF8&reviewerType=all_reviews&pageNumber=138\n",
      "https://www.amazon.in/Harry-Potter-Philosophers-Stone-Rowling-ebook/product-reviews/B019PIOJYU/ref=cm_cr_dp_d_show_all_btm?ie=UTF8&reviewerType=all_reviews&pageNumber=139\n",
      "https://www.amazon.in/Harry-Potter-Philosophers-Stone-Rowling-ebook/product-reviews/B019PIOJYU/ref=cm_cr_dp_d_show_all_btm?ie=UTF8&reviewerType=all_reviews&pageNumber=140\n",
      "https://www.amazon.in/Harry-Potter-Philosophers-Stone-Rowling-ebook/product-reviews/B019PIOJYU/ref=cm_cr_dp_d_show_all_btm?ie=UTF8&reviewerType=all_reviews&pageNumber=141\n",
      "https://www.amazon.in/Harry-Potter-Philosophers-Stone-Rowling-ebook/product-reviews/B019PIOJYU/ref=cm_cr_dp_d_show_all_btm?ie=UTF8&reviewerType=all_reviews&pageNumber=142\n",
      "https://www.amazon.in/Harry-Potter-Philosophers-Stone-Rowling-ebook/product-reviews/B019PIOJYU/ref=cm_cr_dp_d_show_all_btm?ie=UTF8&reviewerType=all_reviews&pageNumber=143\n",
      "https://www.amazon.in/Harry-Potter-Philosophers-Stone-Rowling-ebook/product-reviews/B019PIOJYU/ref=cm_cr_dp_d_show_all_btm?ie=UTF8&reviewerType=all_reviews&pageNumber=144\n",
      "https://www.amazon.in/Harry-Potter-Philosophers-Stone-Rowling-ebook/product-reviews/B019PIOJYU/ref=cm_cr_dp_d_show_all_btm?ie=UTF8&reviewerType=all_reviews&pageNumber=145\n",
      "https://www.amazon.in/Harry-Potter-Philosophers-Stone-Rowling-ebook/product-reviews/B019PIOJYU/ref=cm_cr_dp_d_show_all_btm?ie=UTF8&reviewerType=all_reviews&pageNumber=146\n"
     ]
    },
    {
     "name": "stdout",
     "output_type": "stream",
     "text": [
      "https://www.amazon.in/Harry-Potter-Philosophers-Stone-Rowling-ebook/product-reviews/B019PIOJYU/ref=cm_cr_dp_d_show_all_btm?ie=UTF8&reviewerType=all_reviews&pageNumber=147\n",
      "https://www.amazon.in/Harry-Potter-Philosophers-Stone-Rowling-ebook/product-reviews/B019PIOJYU/ref=cm_cr_dp_d_show_all_btm?ie=UTF8&reviewerType=all_reviews&pageNumber=148\n",
      "https://www.amazon.in/Harry-Potter-Philosophers-Stone-Rowling-ebook/product-reviews/B019PIOJYU/ref=cm_cr_dp_d_show_all_btm?ie=UTF8&reviewerType=all_reviews&pageNumber=149\n",
      "https://www.amazon.in/Harry-Potter-Philosophers-Stone-Rowling-ebook/product-reviews/B019PIOJYU/ref=cm_cr_dp_d_show_all_btm?ie=UTF8&reviewerType=all_reviews&pageNumber=150\n",
      "https://www.amazon.in/Harry-Potter-Philosophers-Stone-Rowling-ebook/product-reviews/B019PIOJYU/ref=cm_cr_dp_d_show_all_btm?ie=UTF8&reviewerType=all_reviews&pageNumber=151\n",
      "https://www.amazon.in/Harry-Potter-Philosophers-Stone-Rowling-ebook/product-reviews/B019PIOJYU/ref=cm_cr_dp_d_show_all_btm?ie=UTF8&reviewerType=all_reviews&pageNumber=152\n",
      "https://www.amazon.in/Harry-Potter-Philosophers-Stone-Rowling-ebook/product-reviews/B019PIOJYU/ref=cm_cr_dp_d_show_all_btm?ie=UTF8&reviewerType=all_reviews&pageNumber=153\n",
      "https://www.amazon.in/Harry-Potter-Philosophers-Stone-Rowling-ebook/product-reviews/B019PIOJYU/ref=cm_cr_dp_d_show_all_btm?ie=UTF8&reviewerType=all_reviews&pageNumber=154\n",
      "https://www.amazon.in/Harry-Potter-Philosophers-Stone-Rowling-ebook/product-reviews/B019PIOJYU/ref=cm_cr_dp_d_show_all_btm?ie=UTF8&reviewerType=all_reviews&pageNumber=155\n",
      "https://www.amazon.in/Harry-Potter-Philosophers-Stone-Rowling-ebook/product-reviews/B019PIOJYU/ref=cm_cr_dp_d_show_all_btm?ie=UTF8&reviewerType=all_reviews&pageNumber=156\n",
      "https://www.amazon.in/Harry-Potter-Philosophers-Stone-Rowling-ebook/product-reviews/B019PIOJYU/ref=cm_cr_dp_d_show_all_btm?ie=UTF8&reviewerType=all_reviews&pageNumber=157\n",
      "https://www.amazon.in/Harry-Potter-Philosophers-Stone-Rowling-ebook/product-reviews/B019PIOJYU/ref=cm_cr_dp_d_show_all_btm?ie=UTF8&reviewerType=all_reviews&pageNumber=158\n",
      "https://www.amazon.in/Harry-Potter-Philosophers-Stone-Rowling-ebook/product-reviews/B019PIOJYU/ref=cm_cr_dp_d_show_all_btm?ie=UTF8&reviewerType=all_reviews&pageNumber=159\n",
      "https://www.amazon.in/Harry-Potter-Philosophers-Stone-Rowling-ebook/product-reviews/B019PIOJYU/ref=cm_cr_dp_d_show_all_btm?ie=UTF8&reviewerType=all_reviews&pageNumber=160\n",
      "https://www.amazon.in/Harry-Potter-Philosophers-Stone-Rowling-ebook/product-reviews/B019PIOJYU/ref=cm_cr_dp_d_show_all_btm?ie=UTF8&reviewerType=all_reviews&pageNumber=161\n",
      "https://www.amazon.in/Harry-Potter-Philosophers-Stone-Rowling-ebook/product-reviews/B019PIOJYU/ref=cm_cr_dp_d_show_all_btm?ie=UTF8&reviewerType=all_reviews&pageNumber=162\n",
      "https://www.amazon.in/Harry-Potter-Philosophers-Stone-Rowling-ebook/product-reviews/B019PIOJYU/ref=cm_cr_dp_d_show_all_btm?ie=UTF8&reviewerType=all_reviews&pageNumber=163\n",
      "https://www.amazon.in/Harry-Potter-Philosophers-Stone-Rowling-ebook/product-reviews/B019PIOJYU/ref=cm_cr_dp_d_show_all_btm?ie=UTF8&reviewerType=all_reviews&pageNumber=164\n",
      "https://www.amazon.in/Harry-Potter-Philosophers-Stone-Rowling-ebook/product-reviews/B019PIOJYU/ref=cm_cr_dp_d_show_all_btm?ie=UTF8&reviewerType=all_reviews&pageNumber=165\n",
      "https://www.amazon.in/Harry-Potter-Philosophers-Stone-Rowling-ebook/product-reviews/B019PIOJYU/ref=cm_cr_dp_d_show_all_btm?ie=UTF8&reviewerType=all_reviews&pageNumber=166\n",
      "https://www.amazon.in/Harry-Potter-Philosophers-Stone-Rowling-ebook/product-reviews/B019PIOJYU/ref=cm_cr_dp_d_show_all_btm?ie=UTF8&reviewerType=all_reviews&pageNumber=167\n",
      "https://www.amazon.in/Harry-Potter-Philosophers-Stone-Rowling-ebook/product-reviews/B019PIOJYU/ref=cm_cr_dp_d_show_all_btm?ie=UTF8&reviewerType=all_reviews&pageNumber=168\n",
      "https://www.amazon.in/Harry-Potter-Philosophers-Stone-Rowling-ebook/product-reviews/B019PIOJYU/ref=cm_cr_dp_d_show_all_btm?ie=UTF8&reviewerType=all_reviews&pageNumber=169\n",
      "https://www.amazon.in/Harry-Potter-Philosophers-Stone-Rowling-ebook/product-reviews/B019PIOJYU/ref=cm_cr_dp_d_show_all_btm?ie=UTF8&reviewerType=all_reviews&pageNumber=170\n",
      "https://www.amazon.in/Harry-Potter-Philosophers-Stone-Rowling-ebook/product-reviews/B019PIOJYU/ref=cm_cr_dp_d_show_all_btm?ie=UTF8&reviewerType=all_reviews&pageNumber=171\n",
      "https://www.amazon.in/Harry-Potter-Philosophers-Stone-Rowling-ebook/product-reviews/B019PIOJYU/ref=cm_cr_dp_d_show_all_btm?ie=UTF8&reviewerType=all_reviews&pageNumber=172\n",
      "https://www.amazon.in/Harry-Potter-Philosophers-Stone-Rowling-ebook/product-reviews/B019PIOJYU/ref=cm_cr_dp_d_show_all_btm?ie=UTF8&reviewerType=all_reviews&pageNumber=173\n",
      "https://www.amazon.in/Harry-Potter-Philosophers-Stone-Rowling-ebook/product-reviews/B019PIOJYU/ref=cm_cr_dp_d_show_all_btm?ie=UTF8&reviewerType=all_reviews&pageNumber=174\n",
      "https://www.amazon.in/Harry-Potter-Philosophers-Stone-Rowling-ebook/product-reviews/B019PIOJYU/ref=cm_cr_dp_d_show_all_btm?ie=UTF8&reviewerType=all_reviews&pageNumber=175\n",
      "https://www.amazon.in/Harry-Potter-Philosophers-Stone-Rowling-ebook/product-reviews/B019PIOJYU/ref=cm_cr_dp_d_show_all_btm?ie=UTF8&reviewerType=all_reviews&pageNumber=176\n",
      "https://www.amazon.in/Harry-Potter-Philosophers-Stone-Rowling-ebook/product-reviews/B019PIOJYU/ref=cm_cr_dp_d_show_all_btm?ie=UTF8&reviewerType=all_reviews&pageNumber=177\n",
      "https://www.amazon.in/Harry-Potter-Philosophers-Stone-Rowling-ebook/product-reviews/B019PIOJYU/ref=cm_cr_dp_d_show_all_btm?ie=UTF8&reviewerType=all_reviews&pageNumber=178\n",
      "https://www.amazon.in/Harry-Potter-Philosophers-Stone-Rowling-ebook/product-reviews/B019PIOJYU/ref=cm_cr_dp_d_show_all_btm?ie=UTF8&reviewerType=all_reviews&pageNumber=179\n",
      "https://www.amazon.in/Harry-Potter-Philosophers-Stone-Rowling-ebook/product-reviews/B019PIOJYU/ref=cm_cr_dp_d_show_all_btm?ie=UTF8&reviewerType=all_reviews&pageNumber=180\n",
      "https://www.amazon.in/Harry-Potter-Philosophers-Stone-Rowling-ebook/product-reviews/B019PIOJYU/ref=cm_cr_dp_d_show_all_btm?ie=UTF8&reviewerType=all_reviews&pageNumber=181\n",
      "https://www.amazon.in/Harry-Potter-Philosophers-Stone-Rowling-ebook/product-reviews/B019PIOJYU/ref=cm_cr_dp_d_show_all_btm?ie=UTF8&reviewerType=all_reviews&pageNumber=182\n",
      "https://www.amazon.in/Harry-Potter-Philosophers-Stone-Rowling-ebook/product-reviews/B019PIOJYU/ref=cm_cr_dp_d_show_all_btm?ie=UTF8&reviewerType=all_reviews&pageNumber=183\n",
      "https://www.amazon.in/Harry-Potter-Philosophers-Stone-Rowling-ebook/product-reviews/B019PIOJYU/ref=cm_cr_dp_d_show_all_btm?ie=UTF8&reviewerType=all_reviews&pageNumber=184\n",
      "https://www.amazon.in/Harry-Potter-Philosophers-Stone-Rowling-ebook/product-reviews/B019PIOJYU/ref=cm_cr_dp_d_show_all_btm?ie=UTF8&reviewerType=all_reviews&pageNumber=185\n",
      "https://www.amazon.in/Harry-Potter-Philosophers-Stone-Rowling-ebook/product-reviews/B019PIOJYU/ref=cm_cr_dp_d_show_all_btm?ie=UTF8&reviewerType=all_reviews&pageNumber=186\n",
      "https://www.amazon.in/Harry-Potter-Philosophers-Stone-Rowling-ebook/product-reviews/B019PIOJYU/ref=cm_cr_dp_d_show_all_btm?ie=UTF8&reviewerType=all_reviews&pageNumber=187\n",
      "https://www.amazon.in/Harry-Potter-Philosophers-Stone-Rowling-ebook/product-reviews/B019PIOJYU/ref=cm_cr_dp_d_show_all_btm?ie=UTF8&reviewerType=all_reviews&pageNumber=188\n",
      "https://www.amazon.in/Harry-Potter-Philosophers-Stone-Rowling-ebook/product-reviews/B019PIOJYU/ref=cm_cr_dp_d_show_all_btm?ie=UTF8&reviewerType=all_reviews&pageNumber=189\n",
      "https://www.amazon.in/Harry-Potter-Philosophers-Stone-Rowling-ebook/product-reviews/B019PIOJYU/ref=cm_cr_dp_d_show_all_btm?ie=UTF8&reviewerType=all_reviews&pageNumber=190\n",
      "https://www.amazon.in/Harry-Potter-Philosophers-Stone-Rowling-ebook/product-reviews/B019PIOJYU/ref=cm_cr_dp_d_show_all_btm?ie=UTF8&reviewerType=all_reviews&pageNumber=191\n",
      "https://www.amazon.in/Harry-Potter-Philosophers-Stone-Rowling-ebook/product-reviews/B019PIOJYU/ref=cm_cr_dp_d_show_all_btm?ie=UTF8&reviewerType=all_reviews&pageNumber=192\n",
      "https://www.amazon.in/Harry-Potter-Philosophers-Stone-Rowling-ebook/product-reviews/B019PIOJYU/ref=cm_cr_dp_d_show_all_btm?ie=UTF8&reviewerType=all_reviews&pageNumber=193\n",
      "https://www.amazon.in/Harry-Potter-Philosophers-Stone-Rowling-ebook/product-reviews/B019PIOJYU/ref=cm_cr_dp_d_show_all_btm?ie=UTF8&reviewerType=all_reviews&pageNumber=194\n"
     ]
    },
    {
     "name": "stdout",
     "output_type": "stream",
     "text": [
      "https://www.amazon.in/Harry-Potter-Philosophers-Stone-Rowling-ebook/product-reviews/B019PIOJYU/ref=cm_cr_dp_d_show_all_btm?ie=UTF8&reviewerType=all_reviews&pageNumber=195\n",
      "https://www.amazon.in/Harry-Potter-Philosophers-Stone-Rowling-ebook/product-reviews/B019PIOJYU/ref=cm_cr_dp_d_show_all_btm?ie=UTF8&reviewerType=all_reviews&pageNumber=196\n",
      "https://www.amazon.in/Harry-Potter-Philosophers-Stone-Rowling-ebook/product-reviews/B019PIOJYU/ref=cm_cr_dp_d_show_all_btm?ie=UTF8&reviewerType=all_reviews&pageNumber=197\n",
      "https://www.amazon.in/Harry-Potter-Philosophers-Stone-Rowling-ebook/product-reviews/B019PIOJYU/ref=cm_cr_dp_d_show_all_btm?ie=UTF8&reviewerType=all_reviews&pageNumber=198\n",
      "https://www.amazon.in/Harry-Potter-Philosophers-Stone-Rowling-ebook/product-reviews/B019PIOJYU/ref=cm_cr_dp_d_show_all_btm?ie=UTF8&reviewerType=all_reviews&pageNumber=199\n"
     ]
    }
   ],
   "source": [
    "link = 'https://www.amazon.in/Harry-Potter-Philosophers-Stone-Rowling-ebook/product-reviews/B019PIOJYU/ref=cm_cr_dp_d_show_all_btm?ie=UTF8&reviewerType=all_reviews'\n",
    "for i in range(1,200):\n",
    "    print(link+'&pageNumber='+str(i))\n",
    "    try:\n",
    "#         link = 'https://www.amazon.in/Apple-iPhone-13-128GB-Midnight/product-reviews/B09G9HD6PD/ref=cm_cr_dp_d_show_all_btm?ie=UTF8&reviewerType=all_reviews'\n",
    "        data = requests.get(link+'&pageNumber='+str(i),headers={'User-Agent': 'Mozilla/5.0 (Macintosh; Intel Mac OS X 10_13_4) AppleWebKit/537.36 (KHTML, like Gecko) Chrome/35.0.1916.47 Safari/537.36'})\n",
    "        data.raise_for_status()\n",
    "        soup = bs(data.text, 'html.parser')\n",
    "        bodies = soup.find('div',class_='a-section a-spacing-none review-views celwidget').find_all('div',class_='a-section review aok-relative')\n",
    "        for body in bodies:\n",
    "            name = body.find('span',class_='a-profile-name').text\n",
    "            rev_title = body.find('a',class_='a-size-base a-link-normal review-title a-color-base review-title-content a-text-bold').find('span').text\n",
    "            rating = body.find('a',class_='a-link-normal').find('i').text.split(' ')[0]\n",
    "            date = body.find('span',class_='a-size-base a-color-secondary review-date').text\n",
    "            review = body.find('span',class_='a-size-base review-text review-text-content').text\n",
    "            sheet.append([name,rev_title,rating,date,review])\n",
    "    except Exception as e:\n",
    "        print(e)\n",
    "        break\n",
    "excel.save(r\"C:\\Users\\Prajeesh\\Desktop\\Handson ML\\Amazon Harry Potter review\\Amazon Harry Potter Review.xlsx\")\n",
    " "
   ]
  },
  {
   "cell_type": "code",
   "execution_count": 16,
   "id": "01a7c4f6",
   "metadata": {},
   "outputs": [
    {
     "data": {
      "text/plain": [
       "'5.0'"
      ]
     },
     "execution_count": 16,
     "metadata": {},
     "output_type": "execute_result"
    }
   ],
   "source": [
    "rating.split(' ')[0]"
   ]
  },
  {
   "cell_type": "code",
   "execution_count": null,
   "id": "65640cff",
   "metadata": {},
   "outputs": [],
   "source": [
    "https://www.amazon.in/Harry-Potter-Philosophers-Stone-Rowling-ebook/product-reviews/B019PIOJYU/ref=cm_cr_dp_d_show_all_btm?ie=UTF8&reviewerType=all_reviews&pageNumber=150"
   ]
  },
  {
   "cell_type": "code",
   "execution_count": null,
   "id": "8d6c81a3",
   "metadata": {},
   "outputs": [],
   "source": []
  }
 ],
 "metadata": {
  "kernelspec": {
   "display_name": "Python 3 (ipykernel)",
   "language": "python",
   "name": "python3"
  },
  "language_info": {
   "codemirror_mode": {
    "name": "ipython",
    "version": 3
   },
   "file_extension": ".py",
   "mimetype": "text/x-python",
   "name": "python",
   "nbconvert_exporter": "python",
   "pygments_lexer": "ipython3",
   "version": "3.10.6"
  }
 },
 "nbformat": 4,
 "nbformat_minor": 5
}
